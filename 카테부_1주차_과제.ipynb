{
  "nbformat": 4,
  "nbformat_minor": 0,
  "metadata": {
    "colab": {
      "provenance": [],
      "authorship_tag": "ABX9TyNErXd8N4l1j6lY8MqiLULp",
      "include_colab_link": true
    },
    "kernelspec": {
      "name": "python3",
      "display_name": "Python 3"
    },
    "language_info": {
      "name": "python"
    }
  },
  "cells": [
    {
      "cell_type": "markdown",
      "metadata": {
        "id": "view-in-github",
        "colab_type": "text"
      },
      "source": [
        "<a href=\"https://colab.research.google.com/github/WooSungChoi99/Practice_Rep/blob/main/%EC%B9%B4%ED%85%8C%EB%B6%80_1%EC%A3%BC%EC%B0%A8_%EA%B3%BC%EC%A0%9C.ipynb\" target=\"_parent\"><img src=\"https://colab.research.google.com/assets/colab-badge.svg\" alt=\"Open In Colab\"/></a>"
      ]
    },
    {
      "cell_type": "markdown",
      "source": [
        "###리그오브레전드(LOL) 밴픽 과정\n",
        "\n",
        "1. 게임이 잡히면 \"수락\" or \"거절\" 버튼이 뜬다.\n",
        "  \n",
        "  1-1. \"수락\" 버튼을 누르면 게임이 시작되고 \"거절\" 버튼을 누르면 밴픽에 들어가지 않고 종료된다.\n",
        "  \n",
        "  1-2. 예외처리 : 올바른 값을 입력하지 않은 경우\n",
        "\n",
        "2. \"탑\", \"정글\", \"미드\", \"원딜\", \"서폿\" 5가지 라인 중 1지망, 2지망 라인을 고른다.\n",
        "\n",
        "  2-1. 예외처리\n",
        "      - 쉼표를 넣지 않은 경우\n",
        "\n",
        "      - 쉼표를 두개 이상 넣은 경우\n",
        "\n",
        "      - 1지망, 2지망 포지션이 겹치는 경우\n",
        "\n",
        "      - 올바른 포지션을 입력하지 않은 경우\n",
        "\n",
        "3. 밴 할 챔피언 입력\n",
        "\n",
        "  3-1. 예외처리 : 올바른 챔피언을 입력하지 않은 경우\n",
        "\n",
        "4. 플레이 할 챔피언 입력\n",
        "\n",
        "  4-1. 예외처리 : 올바른 챔피언을 입력하지 않은 경우\n",
        "\n",
        "\n",
        "5. 최종 밴픽 확인 후 게임 시작 여부 입력\n",
        "\n",
        "  5-1. 예외처리 : 올바른 값을 입력하지 않은 경우"
      ],
      "metadata": {
        "id": "nDPPPQeDZbcD"
      }
    },
    {
      "cell_type": "code",
      "source": [
        "import random"
      ],
      "metadata": {
        "id": "78DED5elMeh-"
      },
      "execution_count": null,
      "outputs": []
    },
    {
      "cell_type": "markdown",
      "source": [
        "### !!데이터 준비 및 함수 구현!!"
      ],
      "metadata": {
        "id": "CO3T0P0uY0xC"
      }
    },
    {
      "cell_type": "code",
      "execution_count": null,
      "metadata": {
        "id": "jucdJuVnLuXc"
      },
      "outputs": [],
      "source": [
        "#각 라인별 존재하는 챔피언 op.gg기준 상위 10개\n",
        "TopChamps = [\"이렐리아\", \"다리우스\", \"리븐\", \"케일\", \"모데카이저\", \"우르곳\", \"초가스\", \"워윅\", \"아트록스\", \"세트\"]\n",
        "JunChamps = [\"오공\", \"비에고\", \"녹턴\", \"리 신\", \"다이애나\", \"자르반 4세\", \"아무무\", \"스카너\", \"워윅\", \"신 짜오\"]\n",
        "MidChamps = [\"빅토르\", \"카시오페아\", \"럭스\", \"흐웨이\", \"갈리오\", \"신드라\", \"아리\", \"벨코즈\", \"사일러스\", \"이렐리아\"]\n",
        "AdcChamps = [\"미스 포츈\", \"징크스\", \"코르키\", \"베인\", \"코그모\", \"케이틀린\", \"빅토르\", \"트위치\", \"이즈리얼\", \"닐라\"]\n",
        "SupChamps = [\"룰루\", \"나미\", \"잔나\", \"렐\", \"카르마\", \"세나\", \"브라움\", \"쓰레쉬\", \"마오카이\", \"소라카\"]"
      ]
    },
    {
      "cell_type": "code",
      "source": [
        "#총 챔피언\n",
        "TotalChamps = [TopChamps, JunChamps, MidChamps, AdcChamps, SupChamps]"
      ],
      "metadata": {
        "id": "rx6g-qeNOvox"
      },
      "execution_count": null,
      "outputs": []
    },
    {
      "cell_type": "code",
      "source": [
        "#포지션 리스트\n",
        "Positions = [\"탑\", \"정글\", \"미드\", \"원딜\", \"서폿\"]"
      ],
      "metadata": {
        "id": "TsR2LCfUMYFV"
      },
      "execution_count": null,
      "outputs": []
    },
    {
      "cell_type": "code",
      "source": [
        "#출력 구분 선\n",
        "def dist_line():\n",
        "    print(\"---------------------------------------------------------\")"
      ],
      "metadata": {
        "id": "wdn0QHMNV_YL"
      },
      "execution_count": null,
      "outputs": []
    },
    {
      "cell_type": "code",
      "source": [
        "#게임 수락/거절 여부\n",
        "def accept_game():\n",
        "    while True:\n",
        "        accept_game = input(\"게임을 찾았습니다. 수락 or 거절 : \")\n",
        "        if accept_game == \"수락\":\n",
        "            return True\n",
        "        elif accept_game == \"거절\":\n",
        "            return False\n",
        "        else:\n",
        "            print(\"잘못 입력하셨습니다. 다시 입력해주세요.\")\n",
        "            dist_line()\n",
        "            continue"
      ],
      "metadata": {
        "id": "3NF8871WMYeO"
      },
      "execution_count": null,
      "outputs": []
    },
    {
      "cell_type": "code",
      "source": [
        "#포지션 선택\n",
        "def pick_position():\n",
        "    while True:\n",
        "        PositionWanted = input(f'{Positions}중 1지망과 2지망을 각각 선택해주세요.\\n1지망과 2지망을 쉼표로 구분해주세요. ex)1지망: 탑, 2지망: 미드 --> 탑,미드 : ')\n",
        "\n",
        "        if check_position(PositionWanted):\n",
        "            break\n",
        "        else:\n",
        "            dist_line()\n",
        "\n",
        "    weights = [0.7, 0.3]\n",
        "    position_picked = random.choices(PositionWanted.split(\",\"), weights)[0]\n",
        "\n",
        "    return position_picked, Positions.index(position_picked)"
      ],
      "metadata": {
        "id": "Omv6aUPhMeUp"
      },
      "execution_count": null,
      "outputs": []
    },
    {
      "cell_type": "markdown",
      "source": [
        "##포지션 입력 예외처리\n",
        "\n",
        "1. 쉼표를 넣지 않았을 경우\n",
        "2. 쉼표를 두개 이상 넣었을 경우\n",
        "3. 1지망, 2지망 포지션이 겹치는 경우\n",
        "4. 올바른 포지션을 입력하지 않은 경우"
      ],
      "metadata": {
        "id": "qpnouolHYWgS"
      }
    },
    {
      "cell_type": "code",
      "source": [
        "#포지션 입력 예외처리\n",
        "\n",
        "def check_position(position_wanted):\n",
        "    #모든 경우의 수 체크\n",
        "    if \",\" not in position_wanted:\n",
        "        print(\"쉼표를 포지션 사이에 넣어 주셔야 합니다. 다시 입력해주세요.\")\n",
        "        return False\n",
        "    elif len(position_wanted.split(\",\")) != 2:\n",
        "        print(\"두 포지션 사이에만 쉼표를 넣어야 합니다. 다시 입력해주세요.\")\n",
        "        return False\n",
        "\n",
        "    #쉼표 앞 뒤로 무조건 단어가 있다\n",
        "    FirPos, SecPos = position_wanted.split(\",\")\n",
        "    if FirPos == SecPos:\n",
        "        print(\"포지션이 중복됩니다, 서로 다른 포지션을 골라주세요. 다시 입력해주세요.\")\n",
        "        return False\n",
        "    elif (FirPos not in Positions) or (SecPos not in Positions):\n",
        "        print(\"올바르지 않은 포지션명을 입력하였습니다. 다시 입력해주세요.\")\n",
        "        return False\n",
        "\n",
        "    return True"
      ],
      "metadata": {
        "id": "4CeQckPB3BKb"
      },
      "execution_count": null,
      "outputs": []
    },
    {
      "cell_type": "code",
      "source": [
        "#사용자 외 밴 챔피언\n",
        "\n",
        "def random_ban(start_idx, end_idx):\n",
        "    for idx in range(start_idx, end_idx):\n",
        "        AllyBan, EnemyBan = random_champ_idx(idx)\n",
        "        BannedChamps.append(AllyBan)\n",
        "        BannedChamps.append(EnemyBan)"
      ],
      "metadata": {
        "id": "OIV1gdyf2gQ6"
      },
      "execution_count": null,
      "outputs": []
    },
    {
      "cell_type": "code",
      "source": [
        "#사용자 외 챔피언 랜덤 인덱스\n",
        "\n",
        "def random_champ_idx(position_idx):\n",
        "    AvaChamps = [champ for champ in TotalChamps[position_idx] if champ not in BannedChamps]\n",
        "    AllyIdx, EnemyIdx = random.sample(range(0, len(AvaChamps)-1), 2)\n",
        "    return AvaChamps[AllyIdx], AvaChamps[EnemyIdx]"
      ],
      "metadata": {
        "id": "X9Yd9eo-NeNs"
      },
      "execution_count": null,
      "outputs": []
    },
    {
      "cell_type": "code",
      "source": [
        "#사용자 밴 챔피언\n",
        "def my_ban(position, position_idx):\n",
        "    while True:\n",
        "        MyBan = input(f\"소환사님은 {position} 챔피언 중에서 밴하셔야 합니다. 하단의 후보들 중에서 밴할 챔피언을 선택해주세요.\\n{TotalChamps[position_idx]} : \")\n",
        "        if check_my_ban(MyBan):\n",
        "            break\n",
        "        else:\n",
        "            dist_line()\n",
        "\n",
        "    return MyBan"
      ],
      "metadata": {
        "id": "So3oYPI1wIo0"
      },
      "execution_count": null,
      "outputs": []
    },
    {
      "cell_type": "code",
      "source": [
        "#사용자 밴 챔피언 예외처리\n",
        "def check_my_ban(MyBan):\n",
        "    if MyBan in TotalChamps[position_idx]:\n",
        "        return True\n",
        "    else:\n",
        "        print(\"잘못된 챔피언명을 입력했습니다. 올바른 챔피언명을 입력해주세요\")\n",
        "        return False"
      ],
      "metadata": {
        "id": "ekJOJyoTwIwG"
      },
      "execution_count": null,
      "outputs": []
    },
    {
      "cell_type": "code",
      "source": [
        "#맞라인 챔피언\n",
        "def opponent_champ(position_idx):\n",
        "    AvaChamps = [champ for champ in TotalChamps[position_idx] if champ not in BannedChamps]\n",
        "    while True:\n",
        "        opponent_champ = random.choices(AvaChamps)[0]\n",
        "        if opponent_champ not in PickedChamps[position_idx]:\n",
        "            return opponent_champ"
      ],
      "metadata": {
        "id": "JBHeqpzmcS6x"
      },
      "execution_count": null,
      "outputs": []
    },
    {
      "cell_type": "code",
      "source": [
        "#사용자 외 챔피언\n",
        "def random_champ(start_idx, end_idx):\n",
        "    for idx in range(start_idx, end_idx):\n",
        "        AllyChamp, EnemyChamp = random_champ_idx(idx)\n",
        "        print(f\"아군 {Positions[idx]} 챔피언은 {AllyChamp}, 상대 {Positions[idx]} 챔피언은 {EnemyChamp}입니다.\")\n",
        "        PickedChamps[idx].append(AllyChamp)\n",
        "        PickedChamps[idx].append(EnemyChamp)"
      ],
      "metadata": {
        "id": "-EAGRTm7JiWO"
      },
      "execution_count": null,
      "outputs": []
    },
    {
      "cell_type": "code",
      "source": [
        "#사용자 입력 챔피언 예외처리\n",
        "def check_my_champ(MyChamp):\n",
        "    AvaChamps = [champ for champ in TotalChamps[position_idx] if champ not in BannedChamps]\n",
        "    if MyChamp in AvaChamps :\n",
        "        return True\n",
        "    else:\n",
        "        print(\"잘못된 챔피언명을 입력했습니다. 올바른 챔피언명을 입력해주세요\")\n",
        "        return False"
      ],
      "metadata": {
        "id": "NzX4rWysCnay"
      },
      "execution_count": null,
      "outputs": []
    },
    {
      "cell_type": "code",
      "source": [
        "#사용자 입력 챔피언\n",
        "def my_champ(position, position_idx):\n",
        "    AvaChamps = [champ for champ in TotalChamps[position_idx] if champ not in BannedChamps]\n",
        "    while True:\n",
        "        MyChamp = input(f\"소환사님은 {position} 챔피언 중에서 선택하셔야 합니다. 하단의 후보들 중에서 선택해주세요.\\n{AvaChamps} : \")\n",
        "        if check_my_champ(MyChamp):\n",
        "            break\n",
        "        else:\n",
        "            dist_line()\n",
        "\n",
        "    return MyChamp"
      ],
      "metadata": {
        "id": "jYZokzO4S7Mb"
      },
      "execution_count": null,
      "outputs": []
    },
    {
      "cell_type": "code",
      "source": [
        "#최종 게임 시작 여부\n",
        "def to_summoner_rift():\n",
        "    while True:\n",
        "        final_choice = input(\"닷지를 원하시나요? Y or N : \")\n",
        "        if final_choice == \"Y\":\n",
        "            return False\n",
        "        elif final_choice == \"N\":\n",
        "            return True\n",
        "        else:\n",
        "          print(\"올바른 답을 입력하지 않으셨습니다. 다시 입력해주세요\")\n",
        "          dist_line()"
      ],
      "metadata": {
        "id": "c7bsrVVPcYC4"
      },
      "execution_count": null,
      "outputs": []
    },
    {
      "cell_type": "markdown",
      "source": [
        "### !!프로그램 실행!!"
      ],
      "metadata": {
        "id": "hThPgU-nYtqs"
      }
    },
    {
      "cell_type": "code",
      "source": [
        "#게임 시작\n",
        "\n",
        "PlayGame = True\n",
        "\n",
        "while PlayGame:\n",
        "    #사용한 챔피언 초기화\n",
        "    PickedChamps = [[] for _ in range(len(TotalChamps))]\n",
        "\n",
        "    #밴한 챔피언 초기화\n",
        "    BannedChamps = []\n",
        "\n",
        "    #게임 시작 여부\n",
        "    if accept_game():\n",
        "        dist_line()\n",
        "        pass\n",
        "    else:\n",
        "        print(\"게임을 하고 싶으실 때 다시 게임을 찾아주세요. 감사합니다.\")\n",
        "        break\n",
        "\n",
        "    #1. 포지션 선택\n",
        "\n",
        "    position, position_idx = pick_position()\n",
        "    print(f\"{position} 포지션으로 배정받으셨습니다. 밴픽 단계로 들어갑니다.\")\n",
        "    dist_line()\n",
        "\n",
        "\n",
        "    #2. 밴 페이즈\n",
        "\n",
        "    #사용자 밴 이전 상황\n",
        "    random_ban(0, position_idx)\n",
        "\n",
        "    #사용자 밴\n",
        "    MyBan = my_ban(position, position_idx)\n",
        "    print(f\"밴 할 챔피언을 {MyBan}로 선택하셨습니다. 이어서 밴픽을 진행합니다\")\n",
        "    BannedChamps.append(MyBan)\n",
        "    dist_line()\n",
        "\n",
        "    #맞라인 상대 밴\n",
        "    OpponentBan = opponent_champ(position_idx)\n",
        "    BannedChamps.append(OpponentBan)\n",
        "\n",
        "    #맞라인 상대 밴 이후 상황\n",
        "    random_ban(position_idx+1, len(TotalChamps))\n",
        "\n",
        "    #최종 밴 출력\n",
        "    print(f\"이번 세트에서 밴 된 챔피언들입니다. 해당 챔피언들은 이번 세트에서 고를 수 없습니다.\\n{BannedChamps}\")\n",
        "    dist_line()\n",
        "\n",
        "    #3. 픽 페이즈\n",
        "\n",
        "    #사용자 챔피언 선택 이전 상황\n",
        "    random_champ(0, position_idx)\n",
        "\n",
        "    #사용자 챔피언 선택\n",
        "    if position_idx !=0:\n",
        "        dist_line()\n",
        "\n",
        "    MyChamp = my_champ(position, position_idx)\n",
        "    print(f\"{MyChamp}로 선택하셨습니다. 이어서 밴픽을 진행합니다\")\n",
        "    PickedChamps[position_idx].append(MyChamp)\n",
        "    dist_line()\n",
        "\n",
        "    #맞라인 상대 챔피언 선택\n",
        "    OpponentChamp = opponent_champ(position_idx)\n",
        "    print(f\"상대 {position} 챔피언은 {OpponentChamp}입니다.\")\n",
        "    PickedChamps[position_idx].append(OpponentChamp)\n",
        "\n",
        "    #맞라인 상대 챔피언 선택 이후 상황\n",
        "    random_champ(position_idx+1, len(TotalChamps))\n",
        "    dist_line()\n",
        "\n",
        "    #4. 전반적인 밴픽 브리핑\n",
        "\n",
        "    print(\"최종 밴픽 상황을 알려드리겠습니다.\")\n",
        "    print(\"{0:^26}{1:^6}\".format(\"아군\", \"적군\"))\n",
        "\n",
        "    for i in range(len(Positions)):\n",
        "        print(\"{0:^4}:{1:^15}{2:^15}\".format(Positions[i], PickedChamps[i][0], PickedChamps[i][1]))\n",
        "    dist_line()\n",
        "\n",
        "    #5. 최종 확인\n",
        "\n",
        "    if to_summoner_rift():\n",
        "        print(\"게임을 시작합니다. 협곡에 오신 것을 환영합니다.\")\n",
        "        PlayGame = False\n",
        "    else:\n",
        "        print(\"닷지를 하셨습니다. 게임을 다시 시작하여 주십시요.\")\n",
        "        dist_line()"
      ],
      "metadata": {
        "colab": {
          "base_uri": "https://localhost:8080/"
        },
        "id": "M9sJK7qqMeDt",
        "outputId": "5c59377d-7d6e-4ed7-834a-5f3ce21a7922"
      },
      "execution_count": null,
      "outputs": [
        {
          "output_type": "stream",
          "name": "stdout",
          "text": [
            "게임을 찾았습니다. 수락 or 거절 : 수락\n",
            "---------------------------------------------------------\n",
            "['탑', '정글', '미드', '원딜', '서폿']중 1지망과 2지망을 각각 선택해주세요.\n",
            "1지망과 2지망을 쉼표로 구분해주세요. ex)1지망: 탑, 2지망: 미드 --> 탑,미드 : 원딜,미드\n",
            "원딜 포지션으로 배정받으셨습니다. 밴픽 단계로 들어갑니다.\n",
            "---------------------------------------------------------\n",
            "소환사님은 원딜 챔피언 중에서 밴하셔야 합니다. 하단의 후보들 중에서 밴할 챔피언을 선택해주세요.\n",
            "['미스 포츈', '징크스', '코르키', '베인', '코그모', '케이틀린', '빅토르', '트위치', '이즈리얼', '닐라'] : 징크스\n",
            "밴 할 챔피언을 징크스로 선택하셨습니다. 이어서 밴픽을 진행합니다\n",
            "---------------------------------------------------------\n",
            "이번 세트에서 밴 된 챔피언들입니다. 해당 챔피언들은 이번 세트에서 고를 수 없습니다.\n",
            "['초가스', '워윅', '녹턴', '오공', '갈리오', '사일러스', '징크스', '이즈리얼', '세나', '나미']\n",
            "---------------------------------------------------------\n",
            "아군 탑 챔피언은 케일, 상대 탑 챔피언은 다리우스입니다.\n",
            "아군 정글 챔피언은 다이애나, 상대 정글 챔피언은 리 신입니다.\n",
            "아군 미드 챔피언은 럭스, 상대 미드 챔피언은 아리입니다.\n",
            "---------------------------------------------------------\n",
            "소환사님은 원딜 챔피언 중에서 선택하셔야 합니다. 하단의 후보들 중에서 선택해주세요.\n",
            "['미스 포츈', '코르키', '베인', '코그모', '케이틀린', '빅토르', '트위치', '닐라'] : 코그모\n",
            "코그모로 선택하셨습니다. 이어서 밴픽을 진행합니다\n",
            "---------------------------------------------------------\n",
            "상대 원딜 챔피언은 빅토르입니다.\n",
            "아군 서폿 챔피언은 마오카이, 상대 서폿 챔피언은 쓰레쉬입니다.\n",
            "---------------------------------------------------------\n",
            "최종 밴픽 상황을 알려드리겠습니다.\n",
            "            아군              적군  \n",
            " 탑  :      케일            다리우스      \n",
            " 정글 :     다이애나            리 신      \n",
            " 미드 :      럭스             아리       \n",
            " 원딜 :      코그모            빅토르      \n",
            " 서폿 :     마오카이            쓰레쉬      \n",
            "---------------------------------------------------------\n",
            "닷지를 원하시나요? Y or N : N\n",
            "게임을 시작합니다. 협곡에 오신 것을 환영합니다.\n"
          ]
        }
      ]
    }
  ]
}